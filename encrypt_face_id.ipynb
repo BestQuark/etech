{
  "nbformat": 4,
  "nbformat_minor": 0,
  "metadata": {
    "colab": {
      "name": "encrypt-face-id.ipynb",
      "provenance": [],
      "collapsed_sections": [],
      "authorship_tag": "ABX9TyOLzmXsVmfvxmlu+zmkwf49",
      "include_colab_link": true
    },
    "kernelspec": {
      "name": "python3",
      "display_name": "Python 3"
    },
    "language_info": {
      "name": "python"
    },
    "accelerator": "GPU"
  },
  "cells": [
    {
      "cell_type": "markdown",
      "metadata": {
        "id": "view-in-github",
        "colab_type": "text"
      },
      "source": [
        "<a href=\"https://colab.research.google.com/github/BestQuark/etech/blob/main/encrypt_face_id.ipynb\" target=\"_parent\"><img src=\"https://colab.research.google.com/assets/colab-badge.svg\" alt=\"Open In Colab\"/></a>"
      ]
    },
    {
      "cell_type": "code",
      "source": [
        "!apt-get install -y --fix-missing \\\n",
        "    build-essential \\\n",
        "    cmake \\\n",
        "    gfortran \\\n",
        "    git \\\n",
        "    wget \\\n",
        "    curl \\\n",
        "    graphicsmagick \\\n",
        "    libgraphicsmagick1-dev \\\n",
        "    libatlas-base-dev \\\n",
        "    libavcodec-dev \\\n",
        "    libavformat-dev \\\n",
        "    libgtk2.0-dev \\\n",
        "    libjpeg-dev \\\n",
        "    liblapack-dev \\\n",
        "    libswscale-dev \\\n",
        "    pkg-config \\\n",
        "    python3-dev \\\n",
        "    python3-numpy \\\n",
        "    software-properties-common \\\n",
        "    zip \\\n",
        "    && apt-get clean && rm -rf /tmp/* /var/tmp/*\n",
        "\n",
        "!cd ~ && \\\n",
        "    mkdir -p dlib && \\\n",
        "    git clone -b 'v19.9' --single-branch https://github.com/davisking/dlib.git dlib/ && \\\n",
        "    cd  dlib/ && \\\n",
        "    python3 setup.py install --yes USE_AVX_INSTRUCTIONS"
      ],
      "metadata": {
        "id": "bQ4jLVCawWcR"
      },
      "execution_count": null,
      "outputs": []
    },
    {
      "cell_type": "code",
      "source": [
        "from google.colab import drive\n",
        "drive.mount('/content/drive')"
      ],
      "metadata": {
        "id": "AcypoVP6O2ye"
      },
      "execution_count": null,
      "outputs": []
    },
    {
      "cell_type": "code",
      "source": [
        "!git clone https://github.com/davisking/dlib.git\n",
        "!cd dlib\n",
        "!mkdir build; cd build; cmake ..; cmake --build .\n",
        "!cd ..\n",
        "!python3 setup.py install\n",
        "!pip install cmake\n",
        "!pip install face_recognition cryptography\n",
        "!pip install pypng\n",
        "!pip install pyzbar\n",
        "!sudo apt-get install libzbar0\n",
        "!pip install face_recognition pyqrcode"
      ],
      "metadata": {
        "colab": {
          "base_uri": "https://localhost:8080/"
        },
        "id": "_STDb_r3w56q",
        "outputId": "87300c0f-cecf-4e5d-91d0-8dbf6ccd4fc3"
      },
      "execution_count": 8,
      "outputs": [
        {
          "output_type": "stream",
          "name": "stdout",
          "text": [
            "Collecting cryptography\n",
            "  Downloading cryptography-36.0.1-cp36-abi3-manylinux_2_24_x86_64.whl (3.6 MB)\n",
            "\u001b[K     |████████████████████████████████| 3.6 MB 5.3 MB/s \n",
            "\u001b[?25hRequirement already satisfied: cffi>=1.12 in /usr/local/lib/python3.7/dist-packages (from cryptography) (1.15.0)\n",
            "Requirement already satisfied: pycparser in /usr/local/lib/python3.7/dist-packages (from cffi>=1.12->cryptography) (2.21)\n",
            "Installing collected packages: cryptography\n",
            "Successfully installed cryptography-36.0.1\n"
          ]
        }
      ]
    },
    {
      "cell_type": "code",
      "source": [
        "import numpy as np\n",
        "import matplotlib.pyplot as plt\n",
        "import cv2\n",
        "from cryptography.fernet import Fernet\n",
        "import pyqrcode\n",
        "import face_recognition\n",
        "from PIL import Image\n",
        "from pyzbar.pyzbar import decode"
      ],
      "metadata": {
        "id": "NC95KV2EvZgb"
      },
      "execution_count": 169,
      "outputs": []
    },
    {
      "cell_type": "code",
      "source": [
        "robustness = 3\n",
        "def gen_qrcode(pic_path, public_key):\n",
        "    pic = face_recognition.load_image_file(pic_path)\n",
        "    pic_encoding = face_recognition.face_encodings(pic)[0]\n",
        "    low_res_enc = np.around(pic_encoding,robustness)\n",
        "    f = Fernet(public_key)\n",
        "    token = f.encrypt(str.encode(''.join(str(e) for e in low_res_enc)))\n",
        "    code = pyqrcode.create(token)\n",
        "    #code.svg('code.svg', scale=4, background=\"white\", module_color=\"#7D007D\")\n",
        "    code.png('code.png', scale=6)\n",
        "\n",
        "def decode_qr(qr_code_path):\n",
        "    qcode = cv2.imread(qr_code_path)\t\n",
        "    return decode(qcode)[0][0]\n",
        "\n",
        "def decode_encrypted(encod_str, public_key):\n",
        "    f = Fernet(public_key)\n",
        "    return f.decrypt(encod_str)\n",
        "\n",
        "def check_match(qr_face, current_image_path):\n",
        "    pic = face_recognition.load_image_file(current_image_path)\n",
        "    pic_encoding = face_recognition.face_encodings(pic)[0]\n",
        "    st = qr_face.decode()\n",
        "    k = ''\n",
        "    t=False\n",
        "    for e in st:\n",
        "        if e=='-':\n",
        "            k+=';'\n",
        "            t=True\n",
        "        elif e=='.':\n",
        "            if t==True: t=False\n",
        "            else: k+=';'\n",
        "        k+=e\n",
        "    if k[0]==';':k=k[1:]\n",
        "    if k[-1]==';':k=k[:-1]\n",
        "    qr_face_encoding = np.fromstring(k, sep=';')\n",
        "    return face_recognition.compare_faces([qr_face_encoding],pic_encoding, tolerance=0.5)"
      ],
      "metadata": {
        "id": "kYo9zPeq8gUQ"
      },
      "execution_count": 272,
      "outputs": []
    },
    {
      "cell_type": "code",
      "source": [
        "key = Fernet.generate_key()"
      ],
      "metadata": {
        "id": "hyROCupUP8OH"
      },
      "execution_count": 278,
      "outputs": []
    },
    {
      "cell_type": "code",
      "source": [
        "gen_qrcode(\"pic.jpg\", key)"
      ],
      "metadata": {
        "id": "gtuTURUP9nHO"
      },
      "execution_count": 273,
      "outputs": []
    },
    {
      "cell_type": "code",
      "source": [
        "qrscan = decode_qr(\"code.png\")"
      ],
      "metadata": {
        "id": "9rLhckYc_c1b"
      },
      "execution_count": 275,
      "outputs": []
    },
    {
      "cell_type": "code",
      "source": [
        "pl = decode_encrypted(qrscan, key)"
      ],
      "metadata": {
        "id": "YlCX76l_N6Ez"
      },
      "execution_count": 276,
      "outputs": []
    },
    {
      "cell_type": "code",
      "source": [
        "check_match(pl, \"pic2.jpg\")"
      ],
      "metadata": {
        "colab": {
          "base_uri": "https://localhost:8080/"
        },
        "id": "zqYTUEgtvnQ8",
        "outputId": "8582b243-394c-4fab-8910-09d461dd55db"
      },
      "execution_count": 277,
      "outputs": [
        {
          "output_type": "execute_result",
          "data": {
            "text/plain": [
              "[True]"
            ]
          },
          "metadata": {},
          "execution_count": 277
        }
      ]
    }
  ]
}